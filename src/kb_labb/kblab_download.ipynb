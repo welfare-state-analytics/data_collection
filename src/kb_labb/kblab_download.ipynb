{
 "cells": [
  {
   "cell_type": "markdown",
   "metadata": {},
   "source": [
    "# Install KB-LAB client\n",
    "\n",
    "```bash\n",
    "pipenv install kblab-client\n",
    "```"
   ]
  },
  {
   "cell_type": "code",
   "execution_count": null,
   "metadata": {},
   "outputs": [],
   "source": [
    "import os\n",
    "import dotenv\n",
    "from kblab import Archive\n",
    "from json import load\n",
    "\n",
    "dotenv.load_dotenv(dotenv_path='~/.vault/.kblab.env')\n",
    "\n",
    "a = Archive('https://betalab.kb.se/', auth=(os.environ['KBLAB_USER'], os.environ['KBLAB_PASSWD']))\n",
    "\n",
    "query = { \"tags\": \"issue\", \"meta.created\": \"1927\" }\n",
    "query = { \"tags\": \"protokoll\" }\n",
    "\n",
    "a.search(query)\n"
   ]
  },
  {
   "cell_type": "code",
   "execution_count": null,
   "metadata": {
    "tags": []
   },
   "outputs": [],
   "source": [
    "result = a.search({ \"tags\": \"protokoll\" }, max=2)\n",
    "\n",
    "for package_id in result:\n",
    "\n",
    "    package = a.get(package_id)\n",
    "\n",
    "    print(dir(package))\n",
    "    print(package.list())\n",
    "    \n",
    "    for file in package:\n",
    "        content = package.get_raw(file).read()\n",
    "        \n",
    "        print(dir(content))\n",
    "        print(dir(file))\n",
    "\n",
    "        break\n",
    "    break\n",
    "\n"
   ]
  },
  {
   "cell_type": "code",
   "execution_count": null,
   "metadata": {},
   "outputs": [],
   "source": [
    "\n",
    "for package_id in a.search({ 'label': 'AFTONBLADET' }, max=2):\n",
    "    print(package_id)\n",
    "    p = a.get(package_id)\n",
    "\n",
    "    #print(p.label)\n",
    "\n"
   ]
  },
  {
   "cell_type": "code",
   "execution_count": null,
   "metadata": {
    "tags": []
   },
   "outputs": [],
   "source": [
    "import os\n",
    "import zipfile\n",
    "import fnmatch\n",
    "import re\n",
    "\n",
    "from kblab import Archive\n",
    "#from json import load\n",
    "\n",
    "# from utility import alto2text\n",
    "import xmltodict\n",
    "\n",
    "def kblab_connect():\n",
    "\n",
    "    kb_archive = Archive('https://betalab.kb.se/', auth=(os.environ['KBLAB_USER'], os.environ['KBLAB_PASSWD']))\n",
    "\n",
    "    return kb_archive\n",
    "\n",
    "def kblab_download_package(kb_archive, package_id, target_archive, excludes=None):\n",
    "\n",
    "    excludes = excludes or []\n",
    "\n",
    "    package = kb_archive.get(package_id)\n",
    "\n",
    "    if 'content.json' not in package:\n",
    "        print(\"warning: {} has no content\".format(package_id))\n",
    "        return\n",
    "\n",
    "    text_items = []\n",
    "    text_item_id = -1\n",
    "    for filename in sorted(package.list()):\n",
    "\n",
    "        if any(fnmatch.fnmatch(filename, pattern) for pattern in excludes):\n",
    "            # if os.path.splitext(filename)[1] in excludes:\n",
    "            print(\"skipping: {}\".format(filename))\n",
    "            continue\n",
    "\n",
    "        content = package.get_raw(filename).read()\n",
    "\n",
    "        target_archive.writestr(os.path.join(package_id, filename), content, zipfile.ZIP_DEFLATED)\n",
    "\n",
    "        print(\"stored: {}\".format(filename))\n",
    "\n",
    "        m = re.match(r'prot_(\\d{4})__(\\d+)\\-(\\d+)\\.xml', filename)\n",
    "        if m is not None:\n",
    "\n",
    "            year, id, page = m.groups()\n",
    "\n",
    "            assert package_id == \"prot-{}--{}\".format(year, id)\n",
    "\n",
    "            if (text_item_id + 1) != int(page):\n",
    "                print(\"warning: page(s) with no XML found {} expected {}\".format(int(page), previous_page + 1))\n",
    "\n",
    "            page_content = xmltodict.parse(content)\n",
    "            assert isinstance(page_content, dict) and 'alto' in page_content\n",
    "            package_documents.append(page_content)\n",
    "\n",
    "    #if len(pages) > 0:\n",
    "    #    target_archive.writestr(os.path.join(package_id, \"{}.txt\".format(package_id)), '\\n'.join(pages), zipfile.ZIP_DEFLATED)\n",
    "\n",
    "    return package_documents\n",
    "\n",
    "kb_archive = kblab_connect()\n",
    "target_folder = \"/home/roger/tmp\"\n",
    "target_filename = os.path.join(target_folder, \"riksdagens_protokoll.zip\")\n",
    "query = { \"tags\": \"protokoll\" }\n",
    "max_count = 2\n",
    "\n",
    "with zipfile.ZipFile(target_filename, \"w\") as target_archive:\n",
    "\n",
    "    for package_id in kb_archive.search(query, max=max_count):\n",
    "\n",
    "        package = kb_archive.get(package_id)\n",
    "\n",
    "        package_documents = kblab_download_package(kb_archive, package_id, target_archive, [\"*.jpg\", \"*.jb2e\"])\n",
    "\n"
   ]
  },
  {
   "cell_type": "code",
   "execution_count": null,
   "metadata": {},
   "outputs": [],
   "source": [
    "document = pages[0]\n",
    "layout = page['alto']['Layout']\n",
    "for page in layout:\n",
    "    pass"
   ]
  },
  {
   "cell_type": "code",
   "execution_count": null,
   "metadata": {},
   "outputs": [],
   "source": [
    "dir(package)"
   ]
  },
  {
   "cell_type": "code",
   "execution_count": null,
   "metadata": {},
   "outputs": [],
   "source": [
    "dir(package.description)"
   ]
  },
  {
   "cell_type": "code",
   "execution_count": null,
   "metadata": {},
   "outputs": [],
   "source": []
  }
 ],
 "metadata": {
  "language_info": {
   "codemirror_mode": {
    "name": "ipython",
    "version": 3
   },
   "file_extension": ".py",
   "mimetype": "text/x-python",
   "name": "python",
   "nbconvert_exporter": "python",
   "pygments_lexer": "ipython3",
   "version": "3.7.6-final"
  },
  "orig_nbformat": 2,
  "kernelspec": {
   "name": "python_defaultSpec_1593155367221",
   "display_name": "Python 3.7.5 64-bit ('welfare_state_analytics': pipenv)"
  }
 },
 "nbformat": 4,
 "nbformat_minor": 2
}